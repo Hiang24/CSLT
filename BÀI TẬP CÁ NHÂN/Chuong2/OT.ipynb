{
 "cells": [
  {
   "cell_type": "code",
   "execution_count": 1,
   "metadata": {},
   "outputs": [
    {
     "name": "stdout",
     "output_type": "stream",
     "text": [
      "Tien lai cuoi ky: 1050.0\n"
     ]
    }
   ],
   "source": [
    "P = int(input('So tien ban dau: '))\n",
    "r = int(input('So thang gui: '))\n",
    "n = float(input('Lai suat moi thang: '))\n",
    "\n",
    "kq =  P*(1+ r*n)\n",
    "\n",
    "print('Tien lai cuoi ky:',kq)"
   ]
  },
  {
   "cell_type": "code",
   "execution_count": 7,
   "metadata": {},
   "outputs": [
    {
     "name": "stdout",
     "output_type": "stream",
     "text": [
      "20\n"
     ]
    }
   ],
   "source": [
    "a = 20\n",
    "b = 8\n",
    "c = 10\n",
    "\n",
    "if(a > b):\n",
    "    so_lon_nhat = a\n",
    "else:\n",
    "    so_lon_nhat = b\n",
    "    \n",
    "if(so_lon_nhat < c):\n",
    "    so_lon_nhat = c\n",
    "    \n",
    "print(so_lon_nhat)\n",
    "    "
   ]
  },
  {
   "cell_type": "code",
   "execution_count": 12,
   "metadata": {},
   "outputs": [
    {
     "name": "stdout",
     "output_type": "stream",
     "text": [
      "Phương trình có nghiệm x = -0.29411764705882354\n"
     ]
    }
   ],
   "source": [
    "a = int(input('a = '))\n",
    "b = int(input('b = '))\n",
    "\n",
    "# ax + b = 0\n",
    "\n",
    "if(a == 0):\n",
    "    if(b == 0):\n",
    "        print('Phương trình có vô số nghiệm')\n",
    "    else:\n",
    "        print('Phương trình vô nghiệm')\n",
    "else:\n",
    "    nghiem = -b/a\n",
    "    print(f'Phương trình có nghiệm x = {nghiem}')"
   ]
  },
  {
   "cell_type": "code",
   "execution_count": 13,
   "metadata": {},
   "outputs": [
    {
     "name": "stdout",
     "output_type": "stream",
     "text": [
      "SLN: 50\n",
      "SNN: 5\n"
     ]
    }
   ],
   "source": [
    "a = 10\n",
    "b = 50\n",
    "c = 5\n",
    "\n",
    "if(a > b):\n",
    "    max = a\n",
    "    min = b\n",
    "else:\n",
    "    max = b\n",
    "    min = a\n",
    "    \n",
    "if(max < c):\n",
    "    max = c\n",
    "\n",
    "if(min > c):\n",
    "    min = c\n",
    "    \n",
    "print(f\"SLN: {max}\")\n",
    "print(f\"SNN: {min}\")"
   ]
  },
  {
   "cell_type": "code",
   "execution_count": 31,
   "metadata": {},
   "outputs": [
    {
     "name": "stdout",
     "output_type": "stream",
     "text": [
      "55000\n"
     ]
    }
   ],
   "source": [
    "tieu_thu = int(input('Tieu thu: '))\n",
    "\n",
    "if(tieu_thu > 0):\n",
    "    if(1 <= tieu_thu <= 100):\n",
    "        tien_dien = tieu_thu * 550\n",
    "    elif(100 < tieu_thu <= 150):\n",
    "        tien_dien = (100 * 550) + ((tieu_thu - 100) * 750)\n",
    "    elif(150 < tieu_thu <= 200):\n",
    "        tien_dien = (100*550) + (50*750) + ((tieu_thu - 150) * 950)\n",
    "    else:\n",
    "        tien_dien = (100*550) + (50*750) + (50*950) + ((tieu_thu - 200)*1350)\n",
    "    vat = tien_dien * 0.1\n",
    "    phai_tra = tien_dien + vat\n",
    "\n",
    "    print(tien_dien)\n",
    "else:\n",
    "    print('Lỗi')\n",
    "\n"
   ]
  },
  {
   "cell_type": "markdown",
   "metadata": {},
   "source": [
    "While"
   ]
  },
  {
   "cell_type": "code",
   "execution_count": 33,
   "metadata": {},
   "outputs": [
    {
     "name": "stdout",
     "output_type": "stream",
     "text": [
      "0\n",
      "1\n",
      "2\n",
      "3\n",
      "4\n",
      "5\n"
     ]
    }
   ],
   "source": [
    "i = 0\n",
    "\n",
    "while i <= 5:\n",
    "    print(i)\n",
    "    i = i + 1 # tăng lên 1 đơn vị\n"
   ]
  },
  {
   "cell_type": "markdown",
   "metadata": {},
   "source": [
    "In các số chẵn từ 1 đến 10"
   ]
  },
  {
   "cell_type": "code",
   "execution_count": 39,
   "metadata": {},
   "outputs": [
    {
     "name": "stdout",
     "output_type": "stream",
     "text": [
      "2\n",
      "4\n",
      "6\n",
      "8\n",
      "10\n"
     ]
    }
   ],
   "source": [
    "a = 2\n",
    "while a <= 10:\n",
    "    print(a)\n",
    "    a += 2\n"
   ]
  },
  {
   "cell_type": "markdown",
   "metadata": {},
   "source": [
    "Tính tổng từ 1 đến n với n là số nguyên nhập từ bàn phím"
   ]
  },
  {
   "cell_type": "code",
   "execution_count": 41,
   "metadata": {},
   "outputs": [
    {
     "name": "stdout",
     "output_type": "stream",
     "text": [
      "10\n"
     ]
    }
   ],
   "source": [
    "n = int(input('n= '))\n",
    "i = 0 #điểm bắt đầu \n",
    "tong = 0\n",
    "\n",
    "while i <= n:\n",
    "    tong = tong + i\n",
    "    i = i + 1\n",
    "\n",
    "print(tong)"
   ]
  },
  {
   "cell_type": "code",
   "execution_count": 54,
   "metadata": {},
   "outputs": [
    {
     "name": "stdout",
     "output_type": "stream",
     "text": [
      "0\n",
      "1\n",
      "2\n",
      "3\n",
      "4\n",
      "5\n",
      "6\n",
      "7\n",
      "8\n",
      "9\n",
      "10\n"
     ]
    }
   ],
   "source": [
    "for i in range(11): # start mạc định là 0. step mạc định là 1\n",
    "    print(i)"
   ]
  },
  {
   "cell_type": "code",
   "execution_count": 51,
   "metadata": {},
   "outputs": [
    {
     "name": "stdout",
     "output_type": "stream",
     "text": [
      "10\n",
      "9\n",
      "8\n",
      "7\n",
      "6\n",
      "5\n",
      "4\n",
      "3\n",
      "2\n",
      "1\n",
      "0\n"
     ]
    }
   ],
   "source": [
    "for i in range(10,-1,-1):\n",
    "    print(i)"
   ]
  },
  {
   "cell_type": "markdown",
   "metadata": {},
   "source": [
    "Nhập số nguyên n, tiếp tục nhập n số nguyên và dừng lại nếu khi đủ n số hoặc nhập số 0, tính tổng các số"
   ]
  },
  {
   "cell_type": "code",
   "execution_count": 3,
   "metadata": {},
   "outputs": [
    {
     "name": "stdout",
     "output_type": "stream",
     "text": [
      "2\n",
      "3\n",
      "5\n",
      "3\n",
      "5\n"
     ]
    }
   ],
   "source": [
    "n = int(input('N = '))\n",
    "for i in range(1,n+1):\n",
    "    x = int(input(f'Nhập số thứ {i}: '))\n",
    "    print(x)"
   ]
  },
  {
   "cell_type": "code",
   "execution_count": 1,
   "metadata": {},
   "outputs": [
    {
     "name": "stdout",
     "output_type": "stream",
     "text": [
      "Package            Version\n",
      "------------------ -----------\n",
      "asttokens          3.0.0\n",
      "certifi            2024.12.14\n",
      "charset-normalizer 3.4.1\n",
      "colorama           0.4.6\n",
      "comm               0.2.2\n",
      "debugpy            1.8.11\n",
      "decorator          5.1.1\n",
      "executing          2.1.0\n",
      "idna               3.10\n",
      "ipykernel          6.29.5\n",
      "ipython            8.31.0\n",
      "jedi               0.19.2\n",
      "jupyter_client     8.6.3\n",
      "jupyter_core       5.7.2\n",
      "matplotlib-inline  0.1.7\n",
      "nest-asyncio       1.6.0\n",
      "numpy              2.2.1\n",
      "packaging          24.2\n",
      "pandas             2.2.3\n",
      "parso              0.8.4\n",
      "pip                24.3.1\n",
      "platformdirs       4.3.6\n",
      "prompt_toolkit     3.0.48\n",
      "psutil             6.1.1\n",
      "pure_eval          0.2.3\n",
      "Pygments           2.19.1\n",
      "python-dateutil    2.9.0.post0\n",
      "pytz               2024.2\n",
      "pywin32            308\n",
      "pyzmq              26.2.0\n",
      "requests           2.32.3\n",
      "six                1.17.0\n",
      "stack-data         0.6.3\n",
      "tornado            6.4.2\n",
      "traitlets          5.14.3\n",
      "tzdata             2024.2\n",
      "urllib3            2.3.0\n",
      "wcwidth            0.2.13\n"
     ]
    }
   ],
   "source": [
    "! pip list"
   ]
  }
 ],
 "metadata": {
  "kernelspec": {
   "display_name": "Python 3",
   "language": "python",
   "name": "python3"
  },
  "language_info": {
   "codemirror_mode": {
    "name": "ipython",
    "version": 3
   },
   "file_extension": ".py",
   "mimetype": "text/x-python",
   "name": "python",
   "nbconvert_exporter": "python",
   "pygments_lexer": "ipython3",
   "version": "3.13.1"
  }
 },
 "nbformat": 4,
 "nbformat_minor": 2
}
