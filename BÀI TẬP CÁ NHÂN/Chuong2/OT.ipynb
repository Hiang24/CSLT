{
 "cells": [
  {
   "cell_type": "code",
   "execution_count": 1,
   "metadata": {},
   "outputs": [
    {
     "name": "stdout",
     "output_type": "stream",
     "text": [
      "Tien lai cuoi ky: 1050.0\n"
     ]
    }
   ],
   "source": [
    "P = int(input('So tien ban dau: '))\n",
    "r = int(input('So thang gui: '))\n",
    "n = float(input('Lai suat moi thang: '))\n",
    "\n",
    "kq =  P*(1+ r*n)\n",
    "\n",
    "print('Tien lai cuoi ky:',kq)"
   ]
  },
  {
   "cell_type": "code",
   "execution_count": 7,
   "metadata": {},
   "outputs": [
    {
     "name": "stdout",
     "output_type": "stream",
     "text": [
      "20\n"
     ]
    }
   ],
   "source": [
    "a = 20\n",
    "b = 8\n",
    "c = 10\n",
    "\n",
    "if(a > b):\n",
    "    so_lon_nhat = a\n",
    "else:\n",
    "    so_lon_nhat = b\n",
    "    \n",
    "if(so_lon_nhat < c):\n",
    "    so_lon_nhat = c\n",
    "    \n",
    "print(so_lon_nhat)\n",
    "    "
   ]
  },
  {
   "cell_type": "code",
   "execution_count": 12,
   "metadata": {},
   "outputs": [
    {
     "name": "stdout",
     "output_type": "stream",
     "text": [
      "Phương trình có nghiệm x = -0.29411764705882354\n"
     ]
    }
   ],
   "source": [
    "a = int(input('a = '))\n",
    "b = int(input('b = '))\n",
    "\n",
    "# ax + b = 0\n",
    "\n",
    "if(a == 0):\n",
    "    if(b == 0):\n",
    "        print('Phương trình có vô số nghiệm')\n",
    "    else:\n",
    "        print('Phương trình vô nghiệm')\n",
    "else:\n",
    "    nghiem = -b/a\n",
    "    print(f'Phương trình có nghiệm x = {nghiem}')"
   ]
  },
  {
   "cell_type": "code",
   "execution_count": 13,
   "metadata": {},
   "outputs": [
    {
     "name": "stdout",
     "output_type": "stream",
     "text": [
      "SLN: 50\n",
      "SNN: 5\n"
     ]
    }
   ],
   "source": [
    "a = 10\n",
    "b = 50\n",
    "c = 5\n",
    "\n",
    "if(a > b):\n",
    "    max = a\n",
    "    min = b\n",
    "else:\n",
    "    max = b\n",
    "    min = a\n",
    "    \n",
    "if(max < c):\n",
    "    max = c\n",
    "\n",
    "if(min > c):\n",
    "    min = c\n",
    "    \n",
    "print(f\"SLN: {max}\")\n",
    "print(f\"SNN: {min}\")"
   ]
  },
  {
   "cell_type": "code",
   "execution_count": 31,
   "metadata": {},
   "outputs": [
    {
     "name": "stdout",
     "output_type": "stream",
     "text": [
      "55000\n"
     ]
    }
   ],
   "source": [
    "tieu_thu = int(input('Tieu thu: '))\n",
    "\n",
    "if(tieu_thu > 0):\n",
    "    if(1 <= tieu_thu <= 100):\n",
    "        tien_dien = tieu_thu * 550\n",
    "    elif(100 < tieu_thu <= 150):\n",
    "        tien_dien = (100 * 550) + ((tieu_thu - 100) * 750)\n",
    "    elif(150 < tieu_thu <= 200):\n",
    "        tien_dien = (100*550) + (50*750) + ((tieu_thu - 150) * 950)\n",
    "    else:\n",
    "        tien_dien = (100*550) + (50*750) + (50*950) + ((tieu_thu - 200)*1350)\n",
    "    vat = tien_dien * 0.1\n",
    "    phai_tra = tien_dien + vat\n",
    "\n",
    "    print(tien_dien)\n",
    "else:\n",
    "    print('Lỗi')\n",
    "\n"
   ]
  }
 ],
 "metadata": {
  "kernelspec": {
   "display_name": "Python 3",
   "language": "python",
   "name": "python3"
  },
  "language_info": {
   "codemirror_mode": {
    "name": "ipython",
    "version": 3
   },
   "file_extension": ".py",
   "mimetype": "text/x-python",
   "name": "python",
   "nbconvert_exporter": "python",
   "pygments_lexer": "ipython3",
   "version": "3.13.1"
  }
 },
 "nbformat": 4,
 "nbformat_minor": 2
}
